{
 "cells": [
  {
   "cell_type": "code",
   "execution_count": 1,
   "id": "a0670f3f-4534-40ca-942b-ae7ea1e7eb7b",
   "metadata": {},
   "outputs": [],
   "source": [
    "import pandas as pd\n",
    "import json"
   ]
  },
  {
   "cell_type": "code",
   "execution_count": 6,
   "id": "9e2e7d5d-40cc-4323-b843-dbcb55f20936",
   "metadata": {},
   "outputs": [],
   "source": [
    "with open('allcolor.json') as f:\n",
    "    data=json.loads(f.read())"
   ]
  },
  {
   "cell_type": "code",
   "execution_count": 15,
   "id": "11f927f1-0419-4220-9948-b9770922416f",
   "metadata": {},
   "outputs": [
    {
     "data": {
      "text/plain": [
       "2"
      ]
     },
     "execution_count": 15,
     "metadata": {},
     "output_type": "execute_result"
    }
   ],
   "source": [
    "len(data['result'][0]['group'])"
   ]
  },
  {
   "cell_type": "code",
   "execution_count": 27,
   "id": "a61f2129-069a-4b78-be9a-f712bfc9d0c2",
   "metadata": {},
   "outputs": [
    {
     "data": {
      "text/plain": [
       "{'_id': {'$id': '1047'},\n",
       " 'name': '印度象牙白',\n",
       " 'R': '255',\n",
       " 'G': '239',\n",
       " 'B': '226',\n",
       " 'no': 'HM02',\n",
       " 'group': '1',\n",
       " 'group_sort': '2',\n",
       " 'font': '黑'}"
      ]
     },
     "execution_count": 27,
     "metadata": {},
     "output_type": "execute_result"
    }
   ],
   "source": [
    "data['result'][0]['group']['1'][1]"
   ]
  },
  {
   "cell_type": "code",
   "execution_count": 2,
   "id": "1d7c5055-1b0a-47d4-9c6e-a136c37f325d",
   "metadata": {},
   "outputs": [],
   "source": [
    "df=pd.read_json('allcolor.json')"
   ]
  },
  {
   "cell_type": "code",
   "execution_count": 20,
   "id": "f62b6118-af98-4e0b-875d-60fb6aaddedf",
   "metadata": {},
   "outputs": [],
   "source": [
    "df1=pd.json_normalize(data['result'][0]['group'],max_level=0)"
   ]
  },
  {
   "cell_type": "code",
   "execution_count": 21,
   "id": "1ebd9b0d-afbc-4b6c-a8a2-bac4f12aec0f",
   "metadata": {},
   "outputs": [
    {
     "data": {
      "text/html": [
       "<div>\n",
       "<style scoped>\n",
       "    .dataframe tbody tr th:only-of-type {\n",
       "        vertical-align: middle;\n",
       "    }\n",
       "\n",
       "    .dataframe tbody tr th {\n",
       "        vertical-align: top;\n",
       "    }\n",
       "\n",
       "    .dataframe thead th {\n",
       "        text-align: right;\n",
       "    }\n",
       "</style>\n",
       "<table border=\"1\" class=\"dataframe\">\n",
       "  <thead>\n",
       "    <tr style=\"text-align: right;\">\n",
       "      <th></th>\n",
       "      <th>1</th>\n",
       "      <th>2</th>\n",
       "    </tr>\n",
       "  </thead>\n",
       "  <tbody>\n",
       "    <tr>\n",
       "      <th>0</th>\n",
       "      <td>[{'_id': {'$id': '1048'}, 'name': '哥伦比亚绿', 'R'...</td>\n",
       "      <td>[{'_id': {'$id': '1044'}, 'name': '爱琴蓝', 'R': ...</td>\n",
       "    </tr>\n",
       "  </tbody>\n",
       "</table>\n",
       "</div>"
      ],
      "text/plain": [
       "                                                   1  \\\n",
       "0  [{'_id': {'$id': '1048'}, 'name': '哥伦比亚绿', 'R'...   \n",
       "\n",
       "                                                   2  \n",
       "0  [{'_id': {'$id': '1044'}, 'name': '爱琴蓝', 'R': ...  "
      ]
     },
     "execution_count": 21,
     "metadata": {},
     "output_type": "execute_result"
    }
   ],
   "source": [
    "df1.head()"
   ]
  },
  {
   "cell_type": "code",
   "execution_count": 4,
   "id": "c468598c-335f-4230-aefd-0d082f19e3fd",
   "metadata": {},
   "outputs": [
    {
     "data": {
      "text/html": [
       "<div>\n",
       "<style scoped>\n",
       "    .dataframe tbody tr th:only-of-type {\n",
       "        vertical-align: middle;\n",
       "    }\n",
       "\n",
       "    .dataframe tbody tr th {\n",
       "        vertical-align: top;\n",
       "    }\n",
       "\n",
       "    .dataframe thead th {\n",
       "        text-align: right;\n",
       "    }\n",
       "</style>\n",
       "<table border=\"1\" class=\"dataframe\">\n",
       "  <thead>\n",
       "    <tr style=\"text-align: right;\">\n",
       "      <th></th>\n",
       "      <th>result</th>\n",
       "    </tr>\n",
       "  </thead>\n",
       "  <tbody>\n",
       "    <tr>\n",
       "      <th>0</th>\n",
       "      <td>{'_id': {'$id': '8137'}, 'name': '简美色彩', 'sort...</td>\n",
       "    </tr>\n",
       "    <tr>\n",
       "      <th>1</th>\n",
       "      <td>{'_id': {'$id': '8138'}, 'name': '近白色', 'sort'...</td>\n",
       "    </tr>\n",
       "    <tr>\n",
       "      <th>2</th>\n",
       "      <td>{'_id': {'$id': '8139'}, 'name': '纯净色', 'sort'...</td>\n",
       "    </tr>\n",
       "    <tr>\n",
       "      <th>3</th>\n",
       "      <td>{'_id': {'$id': '8140'}, 'name': '柔和色', 'sort'...</td>\n",
       "    </tr>\n",
       "    <tr>\n",
       "      <th>4</th>\n",
       "      <td>{'_id': {'$id': '8136'}, 'name': '中性色', 'sort'...</td>\n",
       "    </tr>\n",
       "    <tr>\n",
       "      <th>5</th>\n",
       "      <td>{'_id': {'$id': '8141'}, 'name': '深色', 'sort':...</td>\n",
       "    </tr>\n",
       "  </tbody>\n",
       "</table>\n",
       "</div>"
      ],
      "text/plain": [
       "                                              result\n",
       "0  {'_id': {'$id': '8137'}, 'name': '简美色彩', 'sort...\n",
       "1  {'_id': {'$id': '8138'}, 'name': '近白色', 'sort'...\n",
       "2  {'_id': {'$id': '8139'}, 'name': '纯净色', 'sort'...\n",
       "3  {'_id': {'$id': '8140'}, 'name': '柔和色', 'sort'...\n",
       "4  {'_id': {'$id': '8136'}, 'name': '中性色', 'sort'...\n",
       "5  {'_id': {'$id': '8141'}, 'name': '深色', 'sort':..."
      ]
     },
     "execution_count": 4,
     "metadata": {},
     "output_type": "execute_result"
    }
   ],
   "source": [
    "df[['result']]"
   ]
  }
 ],
 "metadata": {
  "kernelspec": {
   "display_name": "Python 3 (ipykernel)",
   "language": "python",
   "name": "python3"
  },
  "language_info": {
   "codemirror_mode": {
    "name": "ipython",
    "version": 3
   },
   "file_extension": ".py",
   "mimetype": "text/x-python",
   "name": "python",
   "nbconvert_exporter": "python",
   "pygments_lexer": "ipython3",
   "version": "3.12.5"
  }
 },
 "nbformat": 4,
 "nbformat_minor": 5
}
